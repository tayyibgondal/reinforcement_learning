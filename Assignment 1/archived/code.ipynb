{
 "cells": [
  {
   "cell_type": "code",
   "execution_count": 1,
   "metadata": {},
   "outputs": [],
   "source": [
    "import numpy as np"
   ]
  },
  {
   "cell_type": "code",
   "execution_count": 8,
   "metadata": {},
   "outputs": [],
   "source": [
    "# parameters\n",
    "num_states = 3 # (0=top, 1=rolling_down, 2=bottom)\n",
    "num_actions = 2 # (0=drive, 1=no_drive)\n",
    "discount_factor = 0.9\n",
    "\n",
    "state_names = {0:'top', 1:'rolling down', 2:'bottom'}\n",
    "action_names = {0:'drive', 1:\"don't drive\"}"
   ]
  },
  {
   "cell_type": "code",
   "execution_count": 3,
   "metadata": {},
   "outputs": [],
   "source": [
    "# initializing transition probabilities and rewards\n",
    "transitions = np.zeros((num_states, num_actions, num_states))\n",
    "rewards = np.zeros((num_states, num_actions, num_states))"
   ]
  },
  {
   "cell_type": "code",
   "execution_count": 58,
   "metadata": {},
   "outputs": [],
   "source": [
    "# MDP Definition\n",
    "# Transition dynamics/uncertainties\n",
    "transitions[0, 0, 0] = 0.5  # (top, drive, top)\n",
    "transitions[0, 0, 1] = 0.5  # (top, drive, rolling_down)\n",
    "transitions[0, 0, 2] = 0.0  # (top, drive, bottom)\n",
    "transitions[0, 1, 0] = 0.5  # (top, no_drive, top)\n",
    "transitions[0, 1, 1] = 0.5  # (top, no_drive, rolling_down)\n",
    "transitions[0, 1, 2] = 0.0  # (top, no_drive, bottom)\n",
    "transitions[1, 0, 0] = 0.3  # (rolling_down, drive, top)\n",
    "transitions[1, 0, 1] = 0.4  # (rolling_down, drive, rolling_down)\n",
    "transitions[1, 0, 2] = 0.3  # (rolling_down, drive, bottom)\n",
    "transitions[1, 1, 0] = 0.0  # (rolling_down, no_drive, top)\n",
    "transitions[1, 1, 1] = 0.0  # (rolling_down, no_drive, rolling_down)\n",
    "transitions[1, 1, 2] = 1.0  # (rolling_down, no_drive, bottom)\n",
    "transitions[2, 0, 0] = 0.5  # (bottom, drive, top)\n",
    "transitions[2, 0, 1] = 0.0  # (bottom, drive, rolling_down)\n",
    "transitions[2, 0, 2] = 0.5  # (bottom, drive, bottom)\n",
    "transitions[2, 1, 0] = 0.0  # (bottom, no_drive, top)\n",
    "transitions[2, 1, 1] = 0.0  # (bottom, no_drive, rolling_down)\n",
    "transitions[2, 1, 2] = 1.0  # (bottom, no_drive, bottom)\n",
    "\n",
    "# Rewards\n",
    "rewards[0, 0, 0] = 2.0  # (top, drive, top)\n",
    "rewards[0, 0, 1] = 2.0  # (top, drive, rolling_down)\n",
    "rewards[0, 0, 2] = 0.0  # (top, drive, bottom)\n",
    "rewards[0, 1, 0] = 3.0  # (top, no_drive, top)\n",
    "rewards[0, 1, 1] = 1.0  # (top, no_drive, rolling_down)\n",
    "rewards[0, 1, 2] = 0.0  # (top, no_drive, bottom)\n",
    "rewards[1, 0, 0] = 2.0  # (rolling_down, drive, top)\n",
    "rewards[1, 0, 1] = 1.5  # (rolling_down, drive, rolling_down)\n",
    "rewards[1, 0, 2] = 0.5  # (rolling_down, drive, bottom)\n",
    "rewards[1, 1, 0] = 0.0  # (rolling_down, no_drive, top)\n",
    "rewards[1, 1, 1] = 0.0  # (rolling_down, no_drive, rolling_down)\n",
    "rewards[1, 1, 2] = 1.0  # (rolling_down, no_drive, bottom)\n",
    "rewards[2, 0, 0] = 2.0  # (bottom, drive, top)\n",
    "rewards[2, 0, 1] = 0.0  # (bottom, drive, rolling_down)\n",
    "rewards[2, 0, 2] = 2.0  # (bottom, drive, bottom)\n",
    "rewards[2, 1, 0] = 0.0  # (bottom, no_drive, top)\n",
    "rewards[2, 1, 1] = 0.0  # (bottom, no_drive, rolling_down)\n",
    "rewards[2, 1, 2] = 1.0  # (bottom, no_drive, bottom)"
   ]
  },
  {
   "cell_type": "markdown",
   "metadata": {},
   "source": [
    "## question 2"
   ]
  },
  {
   "cell_type": "code",
   "execution_count": 59,
   "metadata": {},
   "outputs": [],
   "source": [
    "def get_optimal_policy(values, transitions, rewards, discount_factor):\n",
    "    q_values = np.zeros((num_states, num_actions))\n",
    "    for s in range(num_states):\n",
    "        for action in range(num_actions):\n",
    "            q_values[s, action] = sum(transitions[s, action, s_next] * (rewards[s, action, s_next] + discount_factor * values[s_next]) for s_next in range(num_states))\n",
    "            \n",
    "    best_actions = np.argmax(q_values, axis=1)\n",
    "    return best_actions\n",
    "    \n",
    "\n",
    "\n",
    "# value iteration\n",
    "def value_iteration(transitions, rewards, discount_factor, tolerance=1e-6):\n",
    "    values = np.zeros(num_states)\n",
    "\n",
    "    while(True):\n",
    "        delta = 0\n",
    "        for s in range(num_states):\n",
    "            v = values[s]\n",
    "\n",
    "            # update value\n",
    "            values[s] = max([sum(transitions[s, action, s_next] * (rewards[s, action, s_next]+discount_factor*values[s_next]) for s_next in range(num_states)) for action in range(num_actions)])\n",
    "\n",
    "            delta = max(delta, abs(v-values[s]))\n",
    "        \n",
    "        if delta < tolerance:\n",
    "            break\n",
    "    \n",
    "    best_actions = get_optimal_policy(values, transitions, rewards, discount_factor)\n",
    "\n",
    "    return values, best_actions"
   ]
  },
  {
   "cell_type": "code",
   "execution_count": 60,
   "metadata": {},
   "outputs": [
    {
     "name": "stdout",
     "output_type": "stream",
     "text": [
      "Optimal value for state \"top\": 17.94\n",
      "Policy for state \"top\": drive\n",
      "---------------------------------------\n",
      "Optimal value for state \"rolling down\": 17.48\n",
      "Policy for state \"rolling down\": don't drive\n",
      "---------------------------------------\n",
      "Optimal value for state \"bottom\": 18.32\n",
      "Policy for state \"bottom\": drive\n",
      "---------------------------------------\n"
     ]
    }
   ],
   "source": [
    "values, policy = value_iteration(transitions, rewards, discount_factor)\n",
    "\n",
    "for i in range(num_states):\n",
    "    print(f'Optimal value for state \"{state_names[i]}\":', np.round(values[i], 2))\n",
    "    print(f'Policy for state \"{state_names[i]}\":', action_names[policy[i]])\n",
    "    print('---------------------------------------')"
   ]
  },
  {
   "cell_type": "markdown",
   "metadata": {},
   "source": [
    "## question 3"
   ]
  },
  {
   "cell_type": "code",
   "execution_count": 73,
   "metadata": {},
   "outputs": [],
   "source": [
    "# policy iteration\n",
    "def policy_evaluation(policy, transitions, rewards, discount_factor, tol=1e-6):\n",
    "    values = np.zeros(num_states)\n",
    "    # if all elements in policy are -1, then stochastic policy will be assumed\n",
    "    stochastic = all(elem == -1 for elem in policy)\n",
    "\n",
    "    while True:\n",
    "        delta = 0\n",
    "        for s in range(num_states):\n",
    "            v = values[s]\n",
    "            action = policy[s]\n",
    "\n",
    "            # if policy is not stochastic\n",
    "            if not stochastic:\n",
    "                values[s] = sum(transitions[s, action, s_next] * (rewards[s, action, s_next] + discount_factor * values[s_next]) for s_next in range(num_states))\n",
    "            # if policy is stochastic, then average over all actions (equal probability for each action)\n",
    "            else:\n",
    "                values[s] = sum(1/num_actions * sum(transitions[s, action, s_next] * (rewards[s, action, s_next] + discount_factor * values[s_next]) for s_next in range(num_states)) for action in range(num_actions))\n",
    "            \n",
    "            delta = max(delta, abs(v - values[s]))\n",
    "\n",
    "        # if convergence achieved, then exit\n",
    "        if delta < tol:\n",
    "            break\n",
    "\n",
    "    return values\n",
    "    \n",
    "def policy_iteration(policy, transitions, rewards, discount_factor, tol=1e-6):\n",
    "    # Initialize q(s, a)\n",
    "    q_values = np.zeros((num_states, num_actions))\n",
    "\n",
    "    while True:\n",
    "        stop = True  # Assume policy is stable initially (won't change, and we need to exit after one policy iteration)\n",
    "        # Evaluate the policy to get state values\n",
    "        values = policy_evaluation(policy, transitions, rewards, discount_factor, tol)\n",
    "\n",
    "        # Update the policy for each state\n",
    "        for s in range(num_states):\n",
    "            # Find the best action and its Q-value for this state\n",
    "            best_action = policy[s]\n",
    "            best_q_value = q_values[s, best_action]\n",
    "\n",
    "            for action in range(num_actions):\n",
    "                new_q_value = sum(\n",
    "                    transitions[s, action, s_next] * (rewards[s, action, s_next] + discount_factor * values[s_next])\n",
    "                    for s_next in range(num_states)\n",
    "                )\n",
    "                \n",
    "                # Update if this action is better than the best one found so far\n",
    "                if new_q_value > best_q_value:\n",
    "                    best_q_value = new_q_value\n",
    "                    best_action = action\n",
    "                    stop = False  # Mark that we made a policy change\n",
    "            \n",
    "            # Update policy and q_values with the best action for state s\n",
    "            policy[s] = best_action\n",
    "            q_values[s, best_action] = best_q_value\n",
    "        \n",
    "        # Stop if the policy is stable\n",
    "        if stop:\n",
    "            break\n",
    "\n",
    "    return values, policy"
   ]
  },
  {
   "cell_type": "code",
   "execution_count": 74,
   "metadata": {},
   "outputs": [
    {
     "name": "stdout",
     "output_type": "stream",
     "text": [
      "Optimal value for state \"top\": 17.94\n",
      "Policy for state \"top\": drive\n",
      "---------------------------------------\n",
      "Optimal value for state \"rolling down\": 17.48\n",
      "Policy for state \"rolling down\": don't drive\n",
      "---------------------------------------\n",
      "Optimal value for state \"bottom\": 18.32\n",
      "Policy for state \"bottom\": drive\n",
      "---------------------------------------\n"
     ]
    }
   ],
   "source": [
    "policy = np.zeros(num_states, dtype=int)\n",
    "# deterministic policy\n",
    "policy[0] = 0 \n",
    "policy[1] = 1\n",
    "policy[2] = 0\n",
    "\n",
    "values, policy = policy_iteration(policy, transitions, rewards, discount_factor)\n",
    "\n",
    "for i in range(num_states):\n",
    "    print(f'Optimal value for state \"{state_names[i]}\":', np.round(values[i], 2))\n",
    "    print(f'Policy for state \"{state_names[i]}\":', action_names[policy[i]])\n",
    "    print('---------------------------------------')"
   ]
  },
  {
   "cell_type": "code",
   "execution_count": 76,
   "metadata": {},
   "outputs": [
    {
     "name": "stdout",
     "output_type": "stream",
     "text": [
      "Optimal value for state \"top\": 17.94\n",
      "Policy for state \"top\": drive\n",
      "---------------------------------------\n",
      "Optimal value for state \"rolling down\": 17.48\n",
      "Policy for state \"rolling down\": don't drive\n",
      "---------------------------------------\n",
      "Optimal value for state \"bottom\": 18.32\n",
      "Policy for state \"bottom\": drive\n",
      "---------------------------------------\n"
     ]
    }
   ],
   "source": [
    "policy = np.zeros(num_states, dtype=int)\n",
    "# stochastic policy (no policy is specified for any state, so policy iteration will use stochastic policy at the start)\n",
    "policy[0] = -1\n",
    "policy[1] = -1\n",
    "\n",
    "values, policy = policy_iteration(policy, transitions, rewards, discount_factor)\n",
    "\n",
    "for i in range(num_states):\n",
    "    print(f'Optimal value for state \"{state_names[i]}\":', np.round(values[i], 2))\n",
    "    print(f'Policy for state \"{state_names[i]}\":', action_names[policy[i]])\n",
    "    print('---------------------------------------')"
   ]
  },
  {
   "cell_type": "markdown",
   "metadata": {},
   "source": [
    "## question 4 a"
   ]
  },
  {
   "cell_type": "code",
   "execution_count": 31,
   "metadata": {},
   "outputs": [],
   "source": [
    "discount_factor = 0.75"
   ]
  },
  {
   "cell_type": "code",
   "execution_count": 32,
   "metadata": {},
   "outputs": [
    {
     "name": "stdout",
     "output_type": "stream",
     "text": [
      "Optimal value for state \"top\": 7.19\n",
      "Policy for state \"top\": don't drive\n",
      "---------------------------------------\n",
      "Optimal value for state \"rolling down\": 6.66\n",
      "Policy for state \"rolling down\": drive\n",
      "---------------------------------------\n",
      "Optimal value for state \"bottom\": 7.52\n",
      "Policy for state \"bottom\": drive\n",
      "---------------------------------------\n"
     ]
    }
   ],
   "source": [
    "values, policy = value_iteration(transitions, rewards, discount_factor)\n",
    "\n",
    "for i in range(num_states):\n",
    "    print(f'Optimal value for state \"{state_names[i]}\":', np.round(values[i], 2))\n",
    "    print(f'Policy for state \"{state_names[i]}\":', action_names[policy[i]])\n",
    "    print('---------------------------------------')"
   ]
  },
  {
   "cell_type": "markdown",
   "metadata": {},
   "source": [
    "## question 4 b"
   ]
  },
  {
   "cell_type": "code",
   "execution_count": 36,
   "metadata": {},
   "outputs": [],
   "source": [
    "# reset discount factor›\n",
    "discount_factor = 0.9"
   ]
  },
  {
   "cell_type": "code",
   "execution_count": 46,
   "metadata": {},
   "outputs": [],
   "source": [
    "# changing probabilities\n",
    "transitions[1, 0, 0] = 0.8  # (rolling_down, drive, top)            # old = 0.3\n",
    "transitions[1, 0, 1] = 0.2  # (rolling_down, drive, rolling_down)   # old = 0.4\n",
    "transitions[1, 0, 2] = 0.0  # (rolling_down, drive, bottom)         # old = 0.3"
   ]
  },
  {
   "cell_type": "code",
   "execution_count": 47,
   "metadata": {},
   "outputs": [
    {
     "name": "stdout",
     "output_type": "stream",
     "text": [
      "Optimal value for state \"top\": 19.65\n",
      "Policy for state \"top\": drive\n",
      "---------------------------------------\n",
      "Optimal value for state \"rolling down\": 19.57\n",
      "Policy for state \"rolling down\": drive\n",
      "---------------------------------------\n",
      "Optimal value for state \"bottom\": 19.83\n",
      "Policy for state \"bottom\": drive\n",
      "---------------------------------------\n"
     ]
    }
   ],
   "source": [
    "values, policy = value_iteration(transitions, rewards, discount_factor)\n",
    "\n",
    "for i in range(num_states):\n",
    "    print(f'Optimal value for state \"{state_names[i]}\":', np.round(values[i], 2))\n",
    "    print(f'Policy for state \"{state_names[i]}\":', action_names[policy[i]])\n",
    "    print('---------------------------------------')"
   ]
  },
  {
   "cell_type": "markdown",
   "metadata": {},
   "source": [
    "## question 4 c"
   ]
  },
  {
   "cell_type": "code",
   "execution_count": 51,
   "metadata": {},
   "outputs": [],
   "source": [
    "# resetting\n",
    "transitions[1, 0, 0] = 0.3  # (rolling_down, drive, top)\n",
    "transitions[1, 0, 1] = 0.4  # (rolling_down, drive, rolling_down)\n",
    "transitions[1, 0, 2] = 0.3  # (rolling_down, drive, bottom)"
   ]
  },
  {
   "cell_type": "code",
   "execution_count": 52,
   "metadata": {},
   "outputs": [],
   "source": [
    "# changing rewards\n",
    "rewards[1, 0, 0] = 4.0  # (rolling_down, drive, top)            # old reward = 2\n",
    "rewards[1, 0, 1] = 1.5  # (rolling_down, drive, rolling_down)\n",
    "rewards[1, 0, 2] = 0.5  # (rolling_down, drive, bottom)"
   ]
  },
  {
   "cell_type": "code",
   "execution_count": 53,
   "metadata": {},
   "outputs": [
    {
     "name": "stdout",
     "output_type": "stream",
     "text": [
      "Optimal value for state \"top\": 19.87\n",
      "Policy for state \"top\": drive\n",
      "---------------------------------------\n",
      "Optimal value for state \"rolling down\": 19.84\n",
      "Policy for state \"rolling down\": drive\n",
      "---------------------------------------\n",
      "Optimal value for state \"bottom\": 19.94\n",
      "Policy for state \"bottom\": drive\n",
      "---------------------------------------\n"
     ]
    }
   ],
   "source": [
    "values, policy = value_iteration(transitions, rewards, discount_factor)\n",
    "\n",
    "for i in range(num_states):\n",
    "    print(f'Optimal value for state \"{state_names[i]}\":', np.round(values[i], 2))\n",
    "    print(f'Policy for state \"{state_names[i]}\":', action_names[policy[i]])\n",
    "    print('---------------------------------------')"
   ]
  }
 ],
 "metadata": {
  "kernelspec": {
   "display_name": "base",
   "language": "python",
   "name": "python3"
  },
  "language_info": {
   "codemirror_mode": {
    "name": "ipython",
    "version": 3
   },
   "file_extension": ".py",
   "mimetype": "text/x-python",
   "name": "python",
   "nbconvert_exporter": "python",
   "pygments_lexer": "ipython3",
   "version": "3.12.4"
  }
 },
 "nbformat": 4,
 "nbformat_minor": 2
}
