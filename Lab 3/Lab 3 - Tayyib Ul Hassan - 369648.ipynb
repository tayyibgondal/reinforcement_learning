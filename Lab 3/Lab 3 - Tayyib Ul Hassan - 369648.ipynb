{
 "cells": [
  {
   "cell_type": "markdown",
   "metadata": {},
   "source": [
    "**Author:** [Tayyib Ul Hassan](https://github.com/tayyibgondal)"
   ]
  },
  {
   "cell_type": "code",
   "execution_count": 1,
   "metadata": {},
   "outputs": [],
   "source": [
    "import numpy as np"
   ]
  },
  {
   "cell_type": "code",
   "execution_count": 2,
   "metadata": {},
   "outputs": [],
   "source": [
    "# parameters\n",
    "num_states = 2 # (0=rocky, 1=Ridge)\n",
    "num_actions = 3 # (0=drilling, 1=digging, 2=push_debris)\n",
    "discount_factor = 0.9"
   ]
  },
  {
   "cell_type": "code",
   "execution_count": 3,
   "metadata": {},
   "outputs": [],
   "source": [
    "# initializing transition probabilities and rewards\n",
    "transitions = np.zeros((num_states, num_actions, num_states))\n",
    "rewards = np.zeros((num_states, num_actions, num_states))"
   ]
  },
  {
   "cell_type": "code",
   "execution_count": 4,
   "metadata": {},
   "outputs": [],
   "source": [
    "# Mdp definition\n",
    "# transition dynamics/uncertainities\n",
    "transitions[0, 0, 0] = 0.30  # (rocky, drilling, rocky)\n",
    "transitions[0, 1, 0] = 0.70  # (rocky, digging, rocky)\n",
    "transitions[0, 2, 0] = 0.45  # (rocky, pushing, rocky)\n",
    "transitions[0, 0, 1] = 0.70  # (rocky, drilling, ridge)\n",
    "transitions[0, 1, 1] = 0.25  # (rocky, digging, ridge)\n",
    "transitions[0, 2, 1] = 0.55  # (rocky, pushing, ridge)\n",
    "transitions[1, 0, 0] = 0.60  # (ridge, drilling, rocky)\n",
    "transitions[1, 1, 0] = 0.00  # (ridge, digging, rocky)\n",
    "transitions[1, 2, 0] = 0.20   # (ridge, pushing, rocky)\n",
    "transitions[1, 0, 1] = 0.40  # (ridge, drilling, ridge)\n",
    "transitions[1, 1, 1] = 0.00  # (ridge, digging, ridge)\n",
    "transitions[1, 2, 1] = 0.80  # (ridge, pushing, ridge)\n",
    "\n",
    "# rewards\n",
    "rewards[0, 0, 0] = 5  # (rocky, drilling, rocky)\n",
    "rewards[0, 1, 0] = 7  # (rocky, digging, rocky)\n",
    "rewards[0, 2, 0] = 9  # (rocky, pushing, rocky)\n",
    "rewards[0, 0, 1] = 1  # (rocky, drilling, ridge)\n",
    "rewards[0, 1, 1] = 7  # (rocky, digging, ridge)\n",
    "rewards[0, 2, 1] = 5  # (rocky, pushing, ridge)\n",
    "rewards[1, 0, 0] = 6  # (ridge, drilling, rocky)\n",
    "rewards[1, 1, 0] = 0  # (ridge, digging, rocky)\n",
    "rewards[1, 2, 0] = 10   # (ridge, pushing, rocky)\n",
    "rewards[1, 0, 1] = 2  # (ridge, drilling, ridge)\n",
    "rewards[1, 1, 1] = 0  # (ridge, digging, ridge)\n",
    "rewards[1, 2, 1] = 2  # (ridge, pushing, ridge)"
   ]
  },
  {
   "cell_type": "markdown",
   "metadata": {},
   "source": [
    "## Deterministic policy evaluation"
   ]
  },
  {
   "cell_type": "code",
   "execution_count": 5,
   "metadata": {},
   "outputs": [],
   "source": [
    "# policy iteration\n",
    "def policy_evaluation(policy, transitions, rewards, discount_factor, tol=1e-6):\n",
    "    values = np.zeros(num_states)\n",
    "\n",
    "    while True:\n",
    "        delta = 0\n",
    "        for s in range(num_states):\n",
    "            v = values[s]\n",
    "            action = policy[s]\n",
    "\n",
    "            values[s] = sum(transitions[s, action, s_next] * (rewards[s, action, s_next] + discount_factor * values[s_next]) for s_next in range(num_states))\n",
    "\n",
    "            delta = max(delta, abs(v - values[s]))\n",
    "\n",
    "        if delta < tol:\n",
    "            break\n",
    "\n",
    "    return values"
   ]
  },
  {
   "cell_type": "code",
   "execution_count": 6,
   "metadata": {},
   "outputs": [],
   "source": [
    "policy = np.zeros(num_states, dtype=int)\n",
    "# deterministic policy\n",
    "policy[0] = 0 \n",
    "policy[1] = 2\n",
    "\n",
    "values = policy_evaluation(policy, transitions, rewards, discount_factor)"
   ]
  },
  {
   "cell_type": "code",
   "execution_count": 7,
   "metadata": {},
   "outputs": [
    {
     "name": "stdout",
     "output_type": "stream",
     "text": [
      "The values for the states are: \n",
      "[31.69230062 33.23076235]\n"
     ]
    }
   ],
   "source": [
    "# Results\n",
    "print(\"The values for the states are: \")\n",
    "print(values)"
   ]
  },
  {
   "cell_type": "markdown",
   "metadata": {},
   "source": [
    "## Stochastic Policy evaluation"
   ]
  },
  {
   "cell_type": "code",
   "execution_count": 8,
   "metadata": {},
   "outputs": [],
   "source": [
    "import numpy as np\n",
    "\n",
    "def stochastic_policy_evaluation(transitions, rewards, tolerance):\n",
    "    values = np.zeros(num_states)\n",
    "\n",
    "    while True:\n",
    "        # Track the maximum change in values in this iteration\n",
    "        delta = 0\n",
    "        for s in range(num_states):\n",
    "            # Store the current value of state s\n",
    "            v = values[s]\n",
    "            \n",
    "            # Calculate the updated value for state s\n",
    "            update = 0\n",
    "            for action in range(num_actions):\n",
    "                update += (1 / num_actions) * sum(\n",
    "                    transitions[s, action, s_next] * (rewards[s, action, s_next] + discount_factor * values[s_next])\n",
    "                    for s_next in range(num_states)\n",
    "                )\n",
    "            values[s] = update  # Set the new value for state s\n",
    "\n",
    "            # Calculate the maximum change\n",
    "            delta = max(delta, abs(v - values[s]))\n",
    "        \n",
    "        # Stop if the values have converged\n",
    "        if delta < tolerance:\n",
    "            break\n",
    "    \n",
    "    return values\n"
   ]
  },
  {
   "cell_type": "code",
   "execution_count": 9,
   "metadata": {},
   "outputs": [
    {
     "name": "stdout",
     "output_type": "stream",
     "text": [
      "The values for the states under the random stochastic policy are: \n",
      "[16.14838604  9.96899243]\n"
     ]
    }
   ],
   "source": [
    "# Evaluate the uniform random stochastic policy\n",
    "values = stochastic_policy_evaluation(transitions, rewards, discount_factor)\n",
    "print(\"The values for the states under the random stochastic policy are: \")\n",
    "print(values)"
   ]
  },
  {
   "cell_type": "markdown",
   "metadata": {},
   "source": [
    "### Gpt-ed"
   ]
  },
  {
   "cell_type": "code",
   "execution_count": 10,
   "metadata": {},
   "outputs": [],
   "source": [
    "# Uniform random stochastic policy (each action is chosen with equal probability)\n",
    "def random_stochastic_policy_evaluation(transitions, rewards, discount_factor, tol=1e-6):\n",
    "    values = np.zeros(num_states)\n",
    "    while True:\n",
    "        delta = 0\n",
    "        for s in range(num_states):\n",
    "            v = values[s]\n",
    "            values[s] = 0\n",
    "            for a in range(num_actions):\n",
    "                values[s] += (1 / num_actions) * sum(\n",
    "                    transitions[s, a, s_next] * (rewards[s, a, s_next] + discount_factor * values[s_next]) \n",
    "                    for s_next in range(num_states)\n",
    "                )\n",
    "            delta = max(delta, abs(v - values[s]))\n",
    "        if delta < tol:\n",
    "            break\n",
    "    return values"
   ]
  },
  {
   "cell_type": "code",
   "execution_count": 11,
   "metadata": {},
   "outputs": [
    {
     "name": "stdout",
     "output_type": "stream",
     "text": [
      "The values for the states under the random stochastic policy are: \n",
      "[8.7497855  5.49660592]\n"
     ]
    }
   ],
   "source": [
    "# Evaluate the uniform random stochastic policy\n",
    "values = random_stochastic_policy_evaluation(transitions, rewards, discount_factor)\n",
    "print(\"The values for the states under the random stochastic policy are: \")\n",
    "print(values)"
   ]
  }
 ],
 "metadata": {
  "kernelspec": {
   "display_name": "base",
   "language": "python",
   "name": "python3"
  },
  "language_info": {
   "codemirror_mode": {
    "name": "ipython",
    "version": 3
   },
   "file_extension": ".py",
   "mimetype": "text/x-python",
   "name": "python",
   "nbconvert_exporter": "python",
   "pygments_lexer": "ipython3",
   "version": "3.12.4"
  }
 },
 "nbformat": 4,
 "nbformat_minor": 2
}
