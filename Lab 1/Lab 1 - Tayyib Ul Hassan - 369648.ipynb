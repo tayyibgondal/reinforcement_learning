{
 "cells": [
  {
   "cell_type": "markdown",
   "metadata": {},
   "source": [
    "**Author:** [Tayyib Ul Hassan](https://github.com/tayyibgondal)\n",
    "\n",
    "**Dated:** February 6, 2023\n"
   ]
  },
  {
   "cell_type": "code",
   "execution_count": 73,
   "metadata": {},
   "outputs": [],
   "source": [
    "import numpy as np\n",
    "import time"
   ]
  },
  {
   "cell_type": "code",
   "execution_count": 2,
   "metadata": {},
   "outputs": [
    {
     "name": "stdout",
     "output_type": "stream",
     "text": [
      "Hello, World!\n"
     ]
    }
   ],
   "source": [
    "print(\"Hello, World!\")"
   ]
  },
  {
   "cell_type": "markdown",
   "metadata": {},
   "source": [
    "## Initializing arrays"
   ]
  },
  {
   "cell_type": "code",
   "execution_count": 6,
   "metadata": {},
   "outputs": [
    {
     "name": "stdout",
     "output_type": "stream",
     "text": [
      "<class 'numpy.ndarray'>\n",
      "(3,)\n",
      "1 2 3\n",
      "[5 2 3]\n",
      "(2, 3)\n",
      "1 2 4\n"
     ]
    }
   ],
   "source": [
    "a = np.array([1, 2, 3])   # Create a rank 1 array\n",
    "print(type(a))            # Prints \"<class 'numpy.ndarray'>\"\n",
    "print(a.shape)            # Prints \"(3,)\"\n",
    "print(a[0], a[1], a[2])   # Prints \"1 2 3\"\n",
    "a[0] = 5                  # Change an element of the array\n",
    "print(a)    \n",
    "\n",
    "b = np.array([[1,2,3],[4,5,6]])    # Create a rank 2 array\n",
    "print(b.shape)                     # Prints \"(2, 3)\"\n",
    "print(b[0, 0], b[0, 1], b[1, 0])   # Prints \"1 2 4\""
   ]
  },
  {
   "cell_type": "code",
   "execution_count": 8,
   "metadata": {},
   "outputs": [
    {
     "name": "stdout",
     "output_type": "stream",
     "text": [
      "[[0. 0.]\n",
      " [0. 0.]]\n",
      "[[1. 1.]]\n"
     ]
    }
   ],
   "source": [
    "a = np.zeros((2,2))   # Create an array of all zeros\n",
    "print(a)              # Prints \"[[ 0.  0.]\n",
    "                      #          [ 0.  0.]]\"\n",
    "b = np.ones((1,2))    # Create an array of all ones\n",
    "print(b)              # Prints \"[[ 1.  1.]]\""
   ]
  },
  {
   "cell_type": "code",
   "execution_count": 10,
   "metadata": {},
   "outputs": [
    {
     "name": "stdout",
     "output_type": "stream",
     "text": [
      "[[7 7]\n",
      " [7 7]]\n",
      "[[1. 0.]\n",
      " [0. 1.]]\n",
      "[[0.79989741 0.54377674]\n",
      " [0.95020649 0.78264531]]\n"
     ]
    }
   ],
   "source": [
    "c = np.full((2,2), 7)  # Create a constant array\n",
    "print(c)               # Prints \"[[ 7.  7.]\n",
    "                       #          [ 7.  7.]]\"\n",
    "d = np.eye(2)         # Create a 2x2 identity matrix\n",
    "print(d)              # Prints \"[[ 1.  0.]\n",
    "                      #          [ 0.  1.]]\"\n",
    "e = np.random.random((2,2))  # Create an array filled with random values\n",
    "print(e)                     # Might print \"[[ 0.91940167  0.08143941]\n",
    "                             #               [ 0.68744134  0.87236687]]\""
   ]
  },
  {
   "cell_type": "markdown",
   "metadata": {},
   "source": [
    "## Slicing and Indexing"
   ]
  },
  {
   "cell_type": "code",
   "execution_count": 11,
   "metadata": {},
   "outputs": [
    {
     "name": "stdout",
     "output_type": "stream",
     "text": [
      "[[2 3]\n",
      " [6 7]]\n",
      "2\n",
      "2\n"
     ]
    }
   ],
   "source": [
    "a = np.array([[1,2,3,4], [5,6,7,8], [9,10,11,12]])\n",
    "\n",
    "# Use slicing to pull out the subarray consisting of the first 2 rows\n",
    "# and columns 1 and 2; b is the following array of shape (2, 2):\n",
    "# [[2 3]\n",
    "#  [6 7]]\n",
    "print(a[:2, 1:3])\n",
    "\n",
    "# A slice of an array is a view into the same data, so modifying it\n",
    "# will modify the original array.\n",
    "print(a[0, 1])   # Prints \"2\"\n",
    "b[0, 0] = 77     # b[0, 0] is the same piece of data as a[0, 1]\n",
    "print(a[0, 1])   # Prints \"77\"\n"
   ]
  },
  {
   "cell_type": "code",
   "execution_count": 12,
   "metadata": {},
   "outputs": [
    {
     "name": "stdout",
     "output_type": "stream",
     "text": [
      "[5 6 7 8] (4,)\n",
      "[[5 6 7 8]] (1, 4)\n",
      "[ 2  6 10] (3,)\n",
      "[[ 2]\n",
      " [ 6]\n",
      " [10]] (3, 1)\n"
     ]
    }
   ],
   "source": [
    "a = np.array([[1,2,3,4], [5,6,7,8], [9,10,11,12]])\n",
    "\n",
    "# Two ways of accessing the data in the middle row of the array.\n",
    "# Mixing integer indexing with slices yields an array of lower rank,\n",
    "# while using only slices yields an array of the same rank as the\n",
    "# original array:\n",
    "row_r1 = a[1, :]    # Rank 1 view of the second row of a\n",
    "row_r2 = a[1:2, :]  # Rank 2 view of the second row of a\n",
    "print(row_r1, row_r1.shape)  # Prints \"[5 6 7 8] (4,)\"\n",
    "print(row_r2, row_r2.shape)  # Prints \"[[5 6 7 8]] (1, 4)\"\n",
    "\n",
    "# We can make the same distinction when accessing columns of an array:\n",
    "col_r1 = a[:, 1]\n",
    "col_r2 = a[:, 1:2]\n",
    "print(col_r1, col_r1.shape)  # Prints \"[ 2  6 10] (3,)\"\n",
    "print(col_r2, col_r2.shape)  # Prints \"[[ 2]\n",
    "                             #          [ 6]\n",
    "                             #          [10]] (3, 1)\"\n"
   ]
  },
  {
   "cell_type": "markdown",
   "metadata": {},
   "source": [
    "## Integer array indexing"
   ]
  },
  {
   "cell_type": "code",
   "execution_count": 22,
   "metadata": {},
   "outputs": [
    {
     "name": "stdout",
     "output_type": "stream",
     "text": [
      "[1 4 5]\n",
      "[1 4 5]\n",
      "[2 4]\n",
      "[2 4]\n"
     ]
    }
   ],
   "source": [
    "a = np.array([[1, 2], [3, 4], [5, 6]])\n",
    "\n",
    "print(a[[0, 1, 2], [0, 1, 0]])\n",
    "\n",
    "print(np.array([a[0, 0], a[1, 1], a[2, 0]]))\n",
    "\n",
    "print(a[[0, 1], [1, 1]])  # Integer array indexing\n",
    "\n",
    "print(np.array([a[0, 1], a[1, 1]]))  # Integer indexing"
   ]
  },
  {
   "cell_type": "markdown",
   "metadata": {},
   "source": [
    "Trick"
   ]
  },
  {
   "cell_type": "code",
   "execution_count": 24,
   "metadata": {},
   "outputs": [
    {
     "name": "stdout",
     "output_type": "stream",
     "text": [
      "[[ 1  2  3]\n",
      " [ 4  5  6]\n",
      " [ 7  8  9]\n",
      " [10 11 12]]\n",
      "[ 1  6  7 11]\n",
      "[[11  2  3]\n",
      " [ 4  5 16]\n",
      " [17  8  9]\n",
      " [10 21 12]]\n"
     ]
    }
   ],
   "source": [
    "a = np.array([\n",
    "    [1, 2, 3],\n",
    "    [4, 5, 6],\n",
    "    [7, 8, 9],\n",
    "    [10, 11, 12]\n",
    "])\n",
    "\n",
    "print(a)\n",
    "\n",
    "b = np.array([0, 2, 0, 1])\n",
    "\n",
    "print(a[np.arange(4), b])\n",
    "\n",
    "a[np.arange(4), b] += 10\n",
    "\n",
    "print(a)"
   ]
  },
  {
   "cell_type": "markdown",
   "metadata": {},
   "source": [
    "## Boolean array indexing"
   ]
  },
  {
   "cell_type": "code",
   "execution_count": 29,
   "metadata": {},
   "outputs": [
    {
     "name": "stdout",
     "output_type": "stream",
     "text": [
      "[[False False]\n",
      " [ True  True]\n",
      " [ True  True]]\n",
      "[3 4 5 6]\n",
      "[3 4 5 6]\n"
     ]
    }
   ],
   "source": [
    "a = np.array([\n",
    "    [1, 2],\n",
    "    [3, 4],\n",
    "    [5, 6]\n",
    "])\n",
    "\n",
    "bool_idx = (a > 2)\n",
    "\n",
    "print(bool_idx)\n",
    "\n",
    "# We use boolean array indexing to construct a rank 1 array\n",
    "# consisting of the elements of a corresponding to the True values\n",
    "# of bool_idx\n",
    "print(a[bool_idx])  # Prints \"[3 4 5 6]\"\n",
    "\n",
    "# We can do all of the above in a single concise statement:\n",
    "print(a[a > 2])     # Prints \"[3 4 5 6]\"\n"
   ]
  },
  {
   "cell_type": "markdown",
   "metadata": {},
   "source": [
    "## Dtype attribute"
   ]
  },
  {
   "cell_type": "code",
   "execution_count": 33,
   "metadata": {},
   "outputs": [
    {
     "name": "stdout",
     "output_type": "stream",
     "text": [
      "int32\n",
      "float64\n",
      "int64\n"
     ]
    }
   ],
   "source": [
    "x = np.array([1, 2])\n",
    "print(x.dtype)\n",
    "\n",
    "x = np.array([1.0, 2.0])\n",
    "print(x.dtype)\n",
    "\n",
    "x = np.array([1, 2], dtype=np.int64)\n",
    "print(x.dtype)"
   ]
  },
  {
   "cell_type": "markdown",
   "metadata": {},
   "source": [
    "## Elementwise operations"
   ]
  },
  {
   "cell_type": "code",
   "execution_count": 34,
   "metadata": {},
   "outputs": [
    {
     "name": "stdout",
     "output_type": "stream",
     "text": [
      "[[ 6.  8.]\n",
      " [10. 12.]]\n",
      "[[ 6.  8.]\n",
      " [10. 12.]]\n",
      "[[-4. -4.]\n",
      " [-4. -4.]]\n",
      "[[-4. -4.]\n",
      " [-4. -4.]]\n",
      "[[ 5. 12.]\n",
      " [21. 32.]]\n",
      "[[ 5. 12.]\n",
      " [21. 32.]]\n",
      "[[0.2        0.33333333]\n",
      " [0.42857143 0.5       ]]\n",
      "[[0.2        0.33333333]\n",
      " [0.42857143 0.5       ]]\n",
      "[[1.         1.41421356]\n",
      " [1.73205081 2.        ]]\n"
     ]
    }
   ],
   "source": [
    "x = np.array([[1,2],[3,4]], dtype=np.float64)\n",
    "y = np.array([[5,6],[7,8]], dtype=np.float64)\n",
    "\n",
    "# Elementwise sum; both produce the array\n",
    "# [[ 6.0  8.0]\n",
    "#  [10.0 12.0]]\n",
    "print(x + y)\n",
    "print(np.add(x, y))\n",
    "\n",
    "# Elementwise difference; both produce the array\n",
    "# [[-4.0 -4.0]\n",
    "#  [-4.0 -4.0]]\n",
    "print(x - y)\n",
    "print(np.subtract(x, y))\n",
    "\n",
    "# Elementwise product; both produce the array\n",
    "# [[ 5.0 12.0]\n",
    "#  [21.0 32.0]]\n",
    "print(x * y)\n",
    "print(np.multiply(x, y))\n",
    "\n",
    "# Elementwise division; both produce the array\n",
    "# [[ 0.2         0.33333333]\n",
    "#  [ 0.42857143  0.5       ]]\n",
    "print(x / y)\n",
    "print(np.divide(x, y))\n",
    "\n",
    "# Elementwise square root; produces the array\n",
    "# [[ 1.          1.41421356]\n",
    "#  [ 1.73205081  2.        ]]\n",
    "print(np.sqrt(x))"
   ]
  },
  {
   "cell_type": "markdown",
   "metadata": {},
   "source": [
    "## Transposing arrays"
   ]
  },
  {
   "cell_type": "code",
   "execution_count": 36,
   "metadata": {},
   "outputs": [
    {
     "name": "stdout",
     "output_type": "stream",
     "text": [
      "[[1 2]\n",
      " [3 4]]\n",
      "[[1 3]\n",
      " [2 4]]\n",
      "[1 2 3]\n",
      "[1 2 3]\n"
     ]
    }
   ],
   "source": [
    "x = np.array([\n",
    "    [1, 2],\n",
    "    [3, 4]\n",
    "])\n",
    "print(x)\n",
    "print(x.T)\n",
    "\n",
    "# Note that taking the transpose of a rank 1 array does nothing:\n",
    "v = np.array([1,2,3])\n",
    "print(v)    # Prints \"[1 2 3]\"\n",
    "print(v.T)  # Prints \"[1 2 3]\"\n"
   ]
  },
  {
   "cell_type": "markdown",
   "metadata": {},
   "source": [
    "## Broadcasting"
   ]
  },
  {
   "cell_type": "code",
   "execution_count": 38,
   "metadata": {},
   "outputs": [
    {
     "name": "stdout",
     "output_type": "stream",
     "text": [
      "[[ 1  2  3]\n",
      " [ 4  5  6]\n",
      " [ 7  8  9]\n",
      " [10 11 12]]\n",
      "[[ 2  2  4]\n",
      " [ 5  5  7]\n",
      " [ 8  8 10]\n",
      " [11 11 13]]\n"
     ]
    }
   ],
   "source": [
    "x = np.array([\n",
    "    [1, 2, 3],\n",
    "    [4, 5, 6],\n",
    "    [7, 8, 9],\n",
    "    [10, 11, 12]\n",
    "])\n",
    "v = np.array([1, 0, 1])\n",
    "y = np.empty_like(x)\n",
    "print(y)\n",
    "\n",
    "for i in range(4):\n",
    "    y[i, :] = x[i, :] + v\n",
    "\n",
    "print(y)"
   ]
  },
  {
   "cell_type": "code",
   "execution_count": 42,
   "metadata": {},
   "outputs": [
    {
     "name": "stdout",
     "output_type": "stream",
     "text": [
      "[[1 0 1]\n",
      " [1 0 1]\n",
      " [1 0 1]\n",
      " [1 0 1]]\n",
      "[[ 2  2  4]\n",
      " [ 5  5  7]\n",
      " [ 8  8 10]\n",
      " [11 11 13]]\n"
     ]
    }
   ],
   "source": [
    "# Other way to do this\n",
    "x = np.array([[1,2,3], [4,5,6], [7,8,9], [10, 11, 12]])\n",
    "v = np.array([1, 0, 1])\n",
    "vv = np.tile(v, (4, 1))\n",
    "print(vv)\n",
    "\n",
    "y = x + vv\n",
    "print(y)"
   ]
  },
  {
   "cell_type": "code",
   "execution_count": 43,
   "metadata": {},
   "outputs": [
    {
     "name": "stdout",
     "output_type": "stream",
     "text": [
      "[[ 2  2  4]\n",
      " [ 5  5  7]\n",
      " [ 8  8 10]\n",
      " [11 11 13]]\n"
     ]
    }
   ],
   "source": [
    "x = np.array([[1,2,3], [4,5,6], [7,8,9], [10, 11, 12]])\n",
    "v = np.array([1, 0, 1])\n",
    "y = x + v\n",
    "print(y)"
   ]
  },
  {
   "cell_type": "code",
   "execution_count": 49,
   "metadata": {},
   "outputs": [
    {
     "name": "stdout",
     "output_type": "stream",
     "text": [
      "[[ 4  5]\n",
      " [ 8 10]\n",
      " [12 15]]\n",
      "[[2 4 6]\n",
      " [5 7 9]]\n",
      "[[ 5  6  7]\n",
      " [ 9 10 11]]\n",
      "[[ 5  6  7]\n",
      " [ 9 10 11]]\n",
      "[[ 2  4  6]\n",
      " [ 8 10 12]]\n"
     ]
    }
   ],
   "source": [
    "# Numpy broadcasting\n",
    "v = np.array([1, 2, 3])\n",
    "w = np.array([4, 5])\n",
    "'''\n",
    "Shape of v: (3,)\n",
    "Shape of w: (2,)\n",
    "\n",
    "Shape of v after broadcasting: (3, 1)\n",
    "Shape of w after broadcasting: (1, 2)\n",
    "\n",
    "Shape of product: (3, 2)\n",
    "'''\n",
    "print(np.reshape(v, (3, 1)) * w)  \n",
    "\n",
    "x = np.array([\n",
    "    [1, 2, 3],\n",
    "    [4, 5, 6]\n",
    "])  \n",
    "'''\n",
    "Shape of x: (2, 3)\n",
    "Shape of v: (3,)\n",
    "\n",
    "Shape of x after broadcasting: (2, 3)\n",
    "Shape of v after broadcasting: (1, 3)\n",
    "\n",
    "Shape of sum: (2, 3)\n",
    "'''\n",
    "print(x + v)\n",
    "\n",
    "'''\n",
    "Shape of x.T: (3, 2)\n",
    "Shape of w: (2,)\n",
    "\n",
    "Shape of sum: (3, 2)\n",
    "Shape of sum after transpose: (2, 3)\n",
    "'''\n",
    "print((x.T + w).T)\n",
    "\n",
    "'''\n",
    "Shape of x: (2, 3)\n",
    "Shape of w: (2,)\n",
    "'''\n",
    "print(x + np.reshape(w, (2, 1)))\n",
    "\n",
    "print(x * 2)\n"
   ]
  },
  {
   "cell_type": "markdown",
   "metadata": {},
   "source": [
    "## Assessment Exercises"
   ]
  },
  {
   "cell_type": "markdown",
   "metadata": {},
   "source": [
    "**6. Create a function that takes a NumPy array of shape (length,width,height) and converts it in to a vector of shape (length x width x height,1). Use the function array.reshape() for this.**"
   ]
  },
  {
   "cell_type": "code",
   "execution_count": 2,
   "metadata": {},
   "outputs": [
    {
     "name": "stdout",
     "output_type": "stream",
     "text": [
      "Shape of input array: (2, 2, 2)\n",
      "Shape of output array: (8, 1)\n"
     ]
    }
   ],
   "source": [
    "def change_shape(numpy_array):\n",
    "    l, w, h = numpy_array.shape\n",
    "    numpy_array = numpy_array.reshape(l*w*h, 1)\n",
    "    return numpy_array\n",
    "\n",
    "arr = np.array([\n",
    "    [[2, 3], [3, 2]], \n",
    "    [[3, 4], [53, 32]]\n",
    "])\n",
    "\n",
    "# Testing of function\n",
    "reshaped_arr = change_shape(arr)\n",
    "print('Shape of input array:', arr.shape)\n",
    "print('Shape of output array:', reshaped_arr.shape)"
   ]
  },
  {
   "cell_type": "markdown",
   "metadata": {},
   "source": [
    "**7.\tBuilding a basic mathematical function with NumPy:**\n",
    "\n",
    "a)\tWrite a function that returns the sigmoid of a real number x. Use math.exp(x) for the exponential function. Sigmoid(x)=1/(1+exp(-x)).\n",
    "\n",
    "b)\tNow create a list of 5 values and call your sigmoid function with the list as input. You will get an error because math.exp() only works when input is a real number. It does not work with vectors and matrices. Now create a new function for sigmoid but this time use np.exp() instead of math.exp(). Np.exp() works with all types of inputs including real numbers, vectors and matrices. In deep learning we mostly use matrices and vectors. This is why NumPy is more useful. Call your new function with a vector created by np.array() function.\n"
   ]
  },
  {
   "cell_type": "code",
   "execution_count": 30,
   "metadata": {},
   "outputs": [
    {
     "name": "stdout",
     "output_type": "stream",
     "text": [
      "0.5\n"
     ]
    }
   ],
   "source": [
    "import math\n",
    "# Sigmoid using math.exp()\n",
    "def sigmoid(x):\n",
    "    try:\n",
    "        return 1/(1+math.exp(-x))\n",
    "    except:\n",
    "        return 'Error, wrong input...'\n",
    "\n",
    "# Testing\n",
    "print(sigmoid(0))"
   ]
  },
  {
   "cell_type": "code",
   "execution_count": 31,
   "metadata": {},
   "outputs": [
    {
     "name": "stdout",
     "output_type": "stream",
     "text": [
      "Error, wrong input...\n"
     ]
    }
   ],
   "source": [
    "input = [1, 2, 3, 4, 5]\n",
    "print(sigmoid(input))"
   ]
  },
  {
   "cell_type": "code",
   "execution_count": 32,
   "metadata": {},
   "outputs": [
    {
     "name": "stdout",
     "output_type": "stream",
     "text": [
      "0.5\n"
     ]
    }
   ],
   "source": [
    "# Sigmoid using np.exp()\n",
    "def sigmoid_numpy(x):\n",
    "    try:\n",
    "        return 1/(1+np.exp(-x))\n",
    "    except:\n",
    "        return 'Error, wrong input...'\n",
    "\n",
    "# Testing\n",
    "print(sigmoid_numpy(0))"
   ]
  },
  {
   "cell_type": "code",
   "execution_count": 35,
   "metadata": {},
   "outputs": [
    {
     "name": "stdout",
     "output_type": "stream",
     "text": [
      "[0.5        0.88079708 0.95257413 0.98201379 0.99330715]\n"
     ]
    }
   ],
   "source": [
    "input = np.array([0, 2, 3, 4, 5])\n",
    "print(sigmoid_numpy(input))"
   ]
  },
  {
   "cell_type": "markdown",
   "metadata": {},
   "source": [
    "**8.\tImplementing a function on a matrix:**\n",
    "\n",
    "Create a function that takes a matrix as input and returns the softmax (by row) of matrix. "
   ]
  },
  {
   "cell_type": "code",
   "execution_count": 68,
   "metadata": {},
   "outputs": [
    {
     "name": "stdout",
     "output_type": "stream",
     "text": [
      "input [[ 5.  7. 10.]\n",
      " [ 5.  7. 10.]\n",
      " [ 5.  7. 10.]]\n",
      "output [[0.00637746 0.04712342 0.94649912]\n",
      " [0.00637746 0.04712342 0.94649912]\n",
      " [0.00637746 0.04712342 0.94649912]]\n"
     ]
    }
   ],
   "source": [
    "def softmax_matrix(matrix):\n",
    "    # Helper function\n",
    "    def softmax_row(row):\n",
    "        exponentiated_row = np.exp(row)\n",
    "        denominator = np.sum(exponentiated_row)\n",
    "        return np.divide(exponentiated_row, denominator)\n",
    "    \n",
    "    # Taking row wise softmax for each row in the matrix\n",
    "    for i in range(len(matrix)):\n",
    "        softmaxed_row = softmax_row(matrix[i])\n",
    "        matrix[i] = softmaxed_row\n",
    "\n",
    "    return matrix\n",
    "\n",
    "\n",
    "# Testing\n",
    "matrix = np.array([[5.0, 7.0, 10.0], [5.0, 7.0, 10.0], [5.0, 7.0, 10.0]])\n",
    "print('input', matrix)\n",
    "output = softmax_matrix(matrix)\n",
    "print('output', output)\n"
   ]
  },
  {
   "cell_type": "markdown",
   "metadata": {},
   "source": [
    "**9.\tFinding dot product using NumPy:**\n",
    "\n",
    "d)\tCreate a function that implements dot product of two vectors. The input to the function should be two standard python lists. Identify the time taken to evaluate the dot product using a particular example of your choice.\n",
    "\n",
    "e)\tNow create another function that implements dot product of two vectors using np.dot() function. Identify the time taken to evaluate this dot product and compare it with the time taken in part a.\n"
   ]
  },
  {
   "cell_type": "code",
   "execution_count": 119,
   "metadata": {},
   "outputs": [
    {
     "name": "stdout",
     "output_type": "stream",
     "text": [
      "time taken to execute the function: 0.0493 ms\n",
      "inputs\n",
      "vector a: [1, 2, 3]\n",
      "vector b: [4, 5, 7]\n",
      "output\n",
      "[4, 10, 21]\n"
     ]
    }
   ],
   "source": [
    "# Dot product of python lists\n",
    "def dot_product_python(vector_a, vector_b):\n",
    "    result = []\n",
    "    # Iterate over each entry of vectors\n",
    "    for i in range(len(vector_a)):\n",
    "        result.append(vector_a[i] * vector_b[i])\n",
    "    return result\n",
    "\n",
    "# Testing of function\n",
    "vector_a = [1, 2, 3]\n",
    "vector_b = [4, 5, 7]\n",
    "# Call function\n",
    "start_time = time.perf_counter()\n",
    "result = dot_product_python(vector_a, vector_b)\n",
    "end_time = time.perf_counter()\n",
    "# Print \n",
    "print('time taken to execute the function:', round((end_time-start_time)*1000, 4), 'ms')\n",
    "print('inputs')\n",
    "print('vector a:', vector_a)\n",
    "print('vector b:', vector_b)\n",
    "print('output')\n",
    "print(result)"
   ]
  },
  {
   "cell_type": "code",
   "execution_count": 120,
   "metadata": {},
   "outputs": [
    {
     "name": "stdout",
     "output_type": "stream",
     "text": [
      "time taken to execute the function: 0.0426 ms\n",
      "inputs\n",
      "vector a: [1 2 3]\n",
      "vector b: [4 5 7]\n",
      "output\n",
      "[ 4 10 21]\n"
     ]
    }
   ],
   "source": [
    "# Dot product of numpy arrays\n",
    "def dot_product_numpy(vector_a, vector_b):\n",
    "    return vector_a * vector_b\n",
    "\n",
    "# Testing of function\n",
    "vector_a = np.array([1, 2, 3])\n",
    "vector_b = np.array([4, 5, 7])\n",
    "# Call function\n",
    "start_time = time.perf_counter()\n",
    "result = dot_product_numpy(vector_a, vector_b)\n",
    "end_time = time.perf_counter()\n",
    "# Print \n",
    "print('time taken to execute the function:', round((end_time-start_time)*1000, 4), 'ms')\n",
    "print('inputs')\n",
    "print('vector a:', vector_a)\n",
    "print('vector b:', vector_b)\n",
    "print('output')\n",
    "print(result)"
   ]
  },
  {
   "cell_type": "markdown",
   "metadata": {},
   "source": [
    "**10.\tFinding outer product using NumPy:**\n",
    "\n",
    "a)\tCreate a function that implements outer product of two vectors. The input to the function should be two standard python lists. Identify the time taken to evaluate the outer product using a particular example of your choice.\n",
    "\n",
    "b)\tNow create another function that implements outer product of two vectors using np.outer() function. Identify the time taken to evaluate this dot product and compare it with the time taken in part a.\n",
    "\n"
   ]
  },
  {
   "cell_type": "code",
   "execution_count": 125,
   "metadata": {},
   "outputs": [
    {
     "name": "stdout",
     "output_type": "stream",
     "text": [
      "inputs\n",
      "vector a: [1, 2, 3]\n",
      "vector b: [4, 5, 7]\n",
      "output\n",
      "[[4, 5, 7], [8, 10, 14], [12, 15, 21]]\n"
     ]
    }
   ],
   "source": [
    "# Outer product using python lists\n",
    "def outer_product_python(vector_a, vector_b):\n",
    "    result = []\n",
    "    for i in range(len(vector_a)):\n",
    "        result.append([])\n",
    "        elem_a = vector_a[i]\n",
    "        for elem_b in vector_b:\n",
    "            result[i].append(elem_a * elem_b)\n",
    "    return result\n",
    "\n",
    "\n",
    "# Testing of function\n",
    "vector_a = [1, 2, 3]\n",
    "vector_b = [4, 5, 7]\n",
    "result = outer_product_python(vector_a, vector_b)\n",
    "# Print\n",
    "print('inputs')\n",
    "print('vector a:', vector_a)\n",
    "print('vector b:', vector_b)\n",
    "print('output')\n",
    "print(result)\n"
   ]
  },
  {
   "cell_type": "code",
   "execution_count": 124,
   "metadata": {},
   "outputs": [
    {
     "name": "stdout",
     "output_type": "stream",
     "text": [
      "inputs\n",
      "vector a: [1 2 3]\n",
      "vector b: [4 5 7]\n",
      "output\n",
      "[[ 4  5  7]\n",
      " [ 8 10 14]\n",
      " [12 15 21]]\n"
     ]
    }
   ],
   "source": [
    "# Outer product using numpy vectors\n",
    "def outer_product_numpy(vector_a, vector_b):\n",
    "    return np.outer(vector_a, vector_b)\n",
    "\n",
    "# Testing of function\n",
    "vector_a = np.array([1, 2, 3])\n",
    "vector_b = np.array([4, 5, 7])\n",
    "result = outer_product_numpy(vector_a, vector_b)\n",
    "# Print\n",
    "print('inputs')\n",
    "print('vector a:', vector_a)\n",
    "print('vector b:', vector_b)\n",
    "print('output')\n",
    "print(result)\n"
   ]
  },
  {
   "cell_type": "markdown",
   "metadata": {},
   "source": [
    "**11.\tDefining Loss Functions**"
   ]
  },
  {
   "cell_type": "code",
   "execution_count": 130,
   "metadata": {},
   "outputs": [
    {
     "name": "stdout",
     "output_type": "stream",
     "text": [
      "inputs\n",
      "y: [1, 2, 3]\n",
      "y_hat: [4, 5, 7]\n",
      "output\n",
      "10\n"
     ]
    }
   ],
   "source": [
    "# L1 loss function using python list\n",
    "def l1_loss_python(y, y_hat):\n",
    "    loss = 0\n",
    "    for i in range(len(y)):\n",
    "        difference = y[i] - y_hat[i]\n",
    "        difference_magnitude = abs(difference)\n",
    "        loss += difference_magnitude\n",
    "    \n",
    "    return loss\n",
    "\n",
    "# Testing of function\n",
    "y = [1, 2, 3]\n",
    "y_hat = [4, 5, 7]\n",
    "loss = l1_loss_python(y, y_hat)\n",
    "# Print\n",
    "print('inputs')\n",
    "print('y:', y)\n",
    "print('y_hat:', y_hat)\n",
    "print('output')\n",
    "print(loss)"
   ]
  },
  {
   "cell_type": "code",
   "execution_count": 127,
   "metadata": {},
   "outputs": [
    {
     "name": "stdout",
     "output_type": "stream",
     "text": [
      "inputs\n",
      "y: [1 2 3]\n",
      "y_hat: [4 5 7]\n",
      "output\n",
      "10\n"
     ]
    }
   ],
   "source": [
    "# L1 loss function using numpy array\n",
    "def l1_loss_numpy(y, y_hat):\n",
    "    differences = y - y_hat\n",
    "    differences_magnitude = np.abs(differences)\n",
    "    return np.sum(differences_magnitude)\n",
    "\n",
    "# Testing of function\n",
    "y = np.array([1, 2, 3])\n",
    "y_hat = np.array([4, 5, 7])\n",
    "loss = l1_loss_numpy(y, y_hat)\n",
    "# Print\n",
    "print('inputs')\n",
    "print('y:', y)\n",
    "print('y_hat:', y_hat)\n",
    "print('output')\n",
    "print(loss)"
   ]
  },
  {
   "cell_type": "markdown",
   "metadata": {},
   "source": [
    "**Comparison**\n",
    "\n",
    "In numpy implementation, I don't have to write a for loop to loop over individual elements of arrays, while in python list implementation, it has to be done by myself."
   ]
  },
  {
   "cell_type": "code",
   "execution_count": 131,
   "metadata": {},
   "outputs": [
    {
     "name": "stdout",
     "output_type": "stream",
     "text": [
      "inputs\n",
      "y: [1, 2, 3]\n",
      "y_hat: [4, 5, 7]\n",
      "output\n",
      "34\n"
     ]
    }
   ],
   "source": [
    "# L2 loss function using python list\n",
    "def l2_loss_python(y, y_hat):\n",
    "    loss = 0\n",
    "    for i in range(len(y)):\n",
    "        difference = y[i] - y_hat[i]\n",
    "        difference_squared = difference * difference\n",
    "        loss += difference_squared\n",
    "    \n",
    "    return loss\n",
    "\n",
    "# Testing of function\n",
    "y = [1, 2, 3]\n",
    "y_hat = [4, 5, 7]\n",
    "loss = l2_loss_python(y, y_hat)\n",
    "# Print\n",
    "print('inputs')\n",
    "print('y:', y)\n",
    "print('y_hat:', y_hat)\n",
    "print('output')\n",
    "print(loss)"
   ]
  },
  {
   "cell_type": "code",
   "execution_count": 128,
   "metadata": {},
   "outputs": [
    {
     "name": "stdout",
     "output_type": "stream",
     "text": [
      "inputs\n",
      "y: [1 2 3]\n",
      "y_hat: [4 5 7]\n",
      "output\n",
      "34\n"
     ]
    }
   ],
   "source": [
    "# L2 loss function using numpy array\n",
    "def l2_loss_numpy(y, y_hat):\n",
    "    differences = y - y_hat\n",
    "    squared_differences = np.square(differences)\n",
    "    return np.sum(squared_differences)\n",
    "\n",
    "# Testing of function\n",
    "y = np.array([1, 2, 3])\n",
    "y_hat = np.array([4, 5, 7])\n",
    "loss = l2_loss_numpy(y, y_hat)\n",
    "# Print\n",
    "print('inputs')\n",
    "print('y:', y)\n",
    "print('y_hat:', y_hat)\n",
    "print('output')\n",
    "print(loss)"
   ]
  },
  {
   "cell_type": "markdown",
   "metadata": {},
   "source": [
    "**Comparison**\n",
    "\n",
    "In numpy implementation, I don't have to write a for loop to loop over individual elements of arrays, while in python list implementation, it has to be done by myself.\n",
    "\n"
   ]
  },
  {
   "cell_type": "markdown",
   "metadata": {},
   "source": [
    "**12.\tPerform Matrix and Matrix Addition:**\n",
    "\n",
    "a)\tCreate a function that performs matrix and matrix addition by using standard python data structures only.\n",
    "\n",
    "b)\tCreate a function that performs matrix and matrix addition by using NumPy arrays.\n"
   ]
  },
  {
   "cell_type": "code",
   "execution_count": 6,
   "metadata": {},
   "outputs": [
    {
     "name": "stdout",
     "output_type": "stream",
     "text": [
      "Inputs\n",
      "Matrix a: [[2, 3], [3, 2]]\n",
      "Matrix b: [[3, 4], [53, 32]]\n",
      "Output\n",
      "[[5, 7], [56, 34]]\n"
     ]
    }
   ],
   "source": [
    "# Using python data structures\n",
    "def add_python_matrices(matrix_a, matrix_b):\n",
    "    result = []\n",
    "    for row_no in range(len(matrix_a)):\n",
    "        result.append([])\n",
    "        for column_no in range(len(matrix_a[row_no])):\n",
    "            operator_a = matrix_a[row_no][column_no]\n",
    "            operator_b = matrix_b[row_no][column_no]\n",
    "            result[row_no].append(operator_a + operator_b)\n",
    "    \n",
    "    return result\n",
    "\n",
    "# Testing of function\n",
    "matrix_a =  [[2, 3], [3, 2]]\n",
    "matrix_b =  [[3, 4], [53, 32]]\n",
    "result = add_python_matrices(matrix_a, matrix_b)\n",
    "\n",
    "print('Inputs')\n",
    "print('Matrix a:', matrix_a)\n",
    "print('Matrix b:', matrix_b)\n",
    "print('Output')\n",
    "print(result)"
   ]
  },
  {
   "cell_type": "code",
   "execution_count": 7,
   "metadata": {},
   "outputs": [
    {
     "name": "stdout",
     "output_type": "stream",
     "text": [
      "Inputs\n",
      "Matrix a: [[2 3]\n",
      " [3 2]]\n",
      "Matrix b: [[ 3  4]\n",
      " [53 32]]\n",
      "Output\n",
      "[[ 5  7]\n",
      " [56 34]]\n"
     ]
    }
   ],
   "source": [
    "# Using numpy arrays\n",
    "def add_numpy_matrices(matrix_a, matrix_b):\n",
    "    return matrix_a + matrix_b\n",
    "\n",
    "# Testing of function\n",
    "matrix_a =  np.array([[2, 3], [3, 2]])\n",
    "matrix_b =  np.array([[3, 4], [53, 32]])\n",
    "result = add_numpy_matrices(matrix_a, matrix_b)\n",
    "\n",
    "print('Inputs')\n",
    "print('Matrix a:', matrix_a)\n",
    "print('Matrix b:', matrix_b)\n",
    "print('Output')\n",
    "print(result)\n"
   ]
  },
  {
   "cell_type": "markdown",
   "metadata": {},
   "source": [
    "**13.\tPerform Matrix and Vector Multiplication:**\n",
    "\n",
    "c)\tCreate a function that performs matrix and vector multiplication by using standard python data structures only.\n",
    "\n",
    "d)\tCreate a function that performs matrix and vector multiplication by using NumPy arrays.\n"
   ]
  },
  {
   "cell_type": "code",
   "execution_count": 9,
   "metadata": {},
   "outputs": [
    {
     "name": "stdout",
     "output_type": "stream",
     "text": [
      "Inputs\n",
      "Matrix: [[2, 3], [3, 2]]\n",
      "Vector: [3, 4]\n",
      "Output\n",
      "[[6, 12], [9, 8]]\n"
     ]
    }
   ],
   "source": [
    "# Using python data structures\n",
    "def matrix_vector_multiplication_python(matrix, vector):\n",
    "    result = []\n",
    "    for row_no in range(len(matrix)):\n",
    "        result.append([])\n",
    "        for i in range(len(vector)):\n",
    "            entry = vector[i] * matrix[row_no][i]\n",
    "            result[row_no].append(entry)\n",
    "    \n",
    "    return result\n",
    "\n",
    "# Testing of function\n",
    "matrix = [[2, 3], [3, 2]]\n",
    "vector = [3, 4]\n",
    "result = matrix_vector_multiplication_python(matrix, vector)\n",
    "\n",
    "print('Inputs')\n",
    "print('Matrix:', matrix)\n",
    "print('Vector:', vector)\n",
    "print('Output')\n",
    "print(result)\n"
   ]
  },
  {
   "cell_type": "code",
   "execution_count": 10,
   "metadata": {},
   "outputs": [
    {
     "name": "stdout",
     "output_type": "stream",
     "text": [
      "Inputs\n",
      "Matrix: [[2 3]\n",
      " [3 2]]\n",
      "Vector: [3 4]\n",
      "Output\n",
      "[[ 6 12]\n",
      " [ 9  8]]\n"
     ]
    }
   ],
   "source": [
    "# Using numpy arrays\n",
    "def matrix_vector_multiplication_numpy(matrix, vector):    \n",
    "    return matrix * vector\n",
    "\n",
    "# Testing of function\n",
    "matrix = np.array([[2, 3], [3, 2]])\n",
    "vector = np.array([3, 4])\n",
    "result = matrix_vector_multiplication_numpy(matrix, vector)\n",
    "\n",
    "print('Inputs')\n",
    "print('Matrix:', matrix)\n",
    "print('Vector:', vector)\n",
    "print('Output')\n",
    "print(result)\n"
   ]
  },
  {
   "cell_type": "markdown",
   "metadata": {},
   "source": [
    "**14.\tPerform Matrix and Matrix Multiplication:**\n",
    "\n",
    "e)\tCreate a function that performs matrix and matrix multiplication by using standard python data structures only.\n",
    "\n",
    "f)\tCreate a function that performs matrix and matrix multiplication by using NumPy arrays.\n"
   ]
  },
  {
   "cell_type": "code",
   "execution_count": 22,
   "metadata": {},
   "outputs": [
    {
     "name": "stdout",
     "output_type": "stream",
     "text": [
      "Inputs\n",
      "Matrix a: [[2, 3], [3, 2]]\n",
      "Matrix b: [[1, 0], [0, 1]]\n",
      "Output\n",
      "[[2, 3], [3, 2]]\n"
     ]
    }
   ],
   "source": [
    "# Using Python Data Structures\n",
    "def matrix_multiplication_python(matrix_a, matrix_b):\n",
    "    # Number of columns of first matrix should equal number of rows of the other\n",
    "    assert len(matrix_a[0]) == len(matrix_b)\n",
    "    result = []\n",
    "    # Extract the row of first matrix\n",
    "    for row_no_a in range(len(matrix_a)):\n",
    "        row_a = matrix_a[row_no_a]\n",
    "        result.append([])\n",
    "        # For all columns of the second matrix\n",
    "        for column_no_b in range(len(matrix_b[0])):\n",
    "            entry_to_be_appended = 0\n",
    "            pointer_row_a = 0\n",
    "            # Go to each row\n",
    "            for row_no_b in range(len(matrix_b)):\n",
    "                row_b = matrix_b[row_no_b]\n",
    "                # Go to specific column\n",
    "                for i in range(len(row_b)):\n",
    "                    if (i == column_no_b):\n",
    "                        entry_to_be_appended += row_b[column_no_b] * row_a[pointer_row_a]\n",
    "                        pointer_row_a += 1\n",
    "                        break\n",
    "            result[row_no_a].append(entry_to_be_appended)\n",
    "\n",
    "    return result\n",
    "\n",
    "# Testing of function\n",
    "matrix_a = [[2, 3], [3, 2]]\n",
    "matrix_b = [[1, 0], [0, 1]]\n",
    "\n",
    "# matrix_a = [[1, 2, 3]]\n",
    "# matrix_b = [[1], [1], [1]]\n",
    "\n",
    "# matrix_a = [[1], [1], [1]]\n",
    "# matrix_b = [[1, 2, 3]]\n",
    "\n",
    "result = matrix_multiplication_python(matrix_a, matrix_b)\n",
    "\n",
    "print('Inputs')\n",
    "print('Matrix a:', matrix_a)\n",
    "print('Matrix b:', matrix_b)\n",
    "print('Output')\n",
    "print(result)\n",
    "\n"
   ]
  },
  {
   "cell_type": "code",
   "execution_count": 12,
   "metadata": {},
   "outputs": [
    {
     "name": "stdout",
     "output_type": "stream",
     "text": [
      "Inputs\n",
      "Matrix a: [[2 3]\n",
      " [3 2]]\n",
      "Matrix b: [[ 3  4]\n",
      " [53 32]]\n",
      "Output\n",
      "[[165 104]\n",
      " [115  76]]\n"
     ]
    }
   ],
   "source": [
    "# Using numpy arrays\n",
    "def matrix_multiplication_numpy(matrix_a, matrix_b):\n",
    "    return matrix_a @ matrix_b\n",
    "\n",
    "# Testing of function\n",
    "matrix_a = np.array([[2, 3], [3, 2]])\n",
    "matrix_b = np.array([[3, 4], [53, 32]])\n",
    "result = matrix_multiplication_numpy(matrix_a, matrix_b)\n",
    "\n",
    "print('Inputs')\n",
    "print('Matrix a:', matrix_a)\n",
    "print('Matrix b:', matrix_b)\n",
    "print('Output')\n",
    "print(result)\n"
   ]
  }
 ],
 "metadata": {
  "kernelspec": {
   "display_name": "Python 3",
   "language": "python",
   "name": "python3"
  },
  "language_info": {
   "codemirror_mode": {
    "name": "ipython",
    "version": 3
   },
   "file_extension": ".py",
   "mimetype": "text/x-python",
   "name": "python",
   "nbconvert_exporter": "python",
   "pygments_lexer": "ipython3",
   "version": "3.11.5"
  }
 },
 "nbformat": 4,
 "nbformat_minor": 2
}
