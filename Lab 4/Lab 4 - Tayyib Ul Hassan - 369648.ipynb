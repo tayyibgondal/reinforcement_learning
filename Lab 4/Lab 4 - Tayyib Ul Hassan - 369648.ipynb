{
 "cells": [
  {
   "cell_type": "markdown",
   "metadata": {},
   "source": [
    "## Import statements"
   ]
  },
  {
   "cell_type": "code",
   "execution_count": 1,
   "metadata": {},
   "outputs": [],
   "source": [
    "import numpy as np"
   ]
  },
  {
   "cell_type": "markdown",
   "metadata": {},
   "source": [
    "## Modelling environments"
   ]
  },
  {
   "cell_type": "code",
   "execution_count": 2,
   "metadata": {},
   "outputs": [],
   "source": [
    "# parameters\n",
    "num_states = 2 # (0=rocky, 1=Ridge)\n",
    "num_actions = 3 # (0=drilling, 1=digging, 2=push_debris)\n",
    "discount_factor = 0.9"
   ]
  },
  {
   "cell_type": "code",
   "execution_count": 3,
   "metadata": {},
   "outputs": [],
   "source": [
    "# initializing transition probabilities and rewards\n",
    "transitions = np.zeros((num_states, num_actions, num_states))\n",
    "rewards = np.zeros((num_states, num_actions, num_states))"
   ]
  },
  {
   "cell_type": "code",
   "execution_count": 4,
   "metadata": {},
   "outputs": [],
   "source": [
    "# Mdp definition\n",
    "# transition dynamics/uncertainities\n",
    "transitions[0, 0, 0] = 0.30  # (rocky, drilling, rocky)\n",
    "transitions[0, 1, 0] = 0.70  # (rocky, digging, rocky)\n",
    "transitions[0, 2, 0] = 0.45  # (rocky, pushing, rocky)\n",
    "transitions[0, 0, 1] = 0.70  # (rocky, drilling, ridge)\n",
    "transitions[0, 1, 1] = 0.25  # (rocky, digging, ridge)\n",
    "transitions[0, 2, 1] = 0.55  # (rocky, pushing, ridge)\n",
    "transitions[1, 0, 0] = 0.60  # (ridge, drilling, rocky)\n",
    "transitions[1, 1, 0] = 0.00  # (ridge, digging, rocky)\n",
    "transitions[1, 2, 0] = 0.20   # (ridge, pushing, rocky)\n",
    "transitions[1, 0, 1] = 0.40  # (ridge, drilling, ridge)\n",
    "transitions[1, 1, 1] = 0.00  # (ridge, digging, ridge)\n",
    "transitions[1, 2, 1] = 0.80  # (ridge, pushing, ridge)\n",
    "\n",
    "# rewards\n",
    "rewards[0, 0, 0] = 5  # (rocky, drilling, rocky)\n",
    "rewards[0, 1, 0] = 7  # (rocky, digging, rocky)\n",
    "rewards[0, 2, 0] = 9  # (rocky, pushing, rocky)\n",
    "rewards[0, 0, 1] = 1  # (rocky, drilling, ridge)\n",
    "rewards[0, 1, 1] = 7  # (rocky, digging, ridge)\n",
    "rewards[0, 2, 1] = 5  # (rocky, pushing, ridge)\n",
    "rewards[1, 0, 0] = 6  # (ridge, drilling, rocky)\n",
    "rewards[1, 1, 0] = 0  # (ridge, digging, rocky)\n",
    "rewards[1, 2, 0] = 10   # (ridge, pushing, rocky)\n",
    "rewards[1, 0, 1] = 2  # (ridge, drilling, ridge)\n",
    "rewards[1, 1, 1] = 0  # (ridge, digging, ridge)\n",
    "rewards[1, 2, 1] = 2  # (ridge, pushing, ridge)"
   ]
  },
  {
   "cell_type": "markdown",
   "metadata": {},
   "source": [
    "## Policy iteration"
   ]
  },
  {
   "cell_type": "code",
   "execution_count": 45,
   "metadata": {},
   "outputs": [],
   "source": [
    "# policy iteration\n",
    "def policy_evaluation(policy, transitions, rewards, discount_factor, tol=1e-6):\n",
    "    values = np.zeros(num_states)\n",
    "\n",
    "    while True:\n",
    "        delta = 0\n",
    "        for s in range(num_states):\n",
    "            v = values[s]\n",
    "            action = policy[s]\n",
    "\n",
    "            values[s] = sum(transitions[s, action, s_next] * (rewards[s, action, s_next] + discount_factor * values[s_next]) for s_next in range(num_states))\n",
    "\n",
    "            delta = max(delta, abs(v - values[s]))\n",
    "\n",
    "        if delta < tol:\n",
    "            break\n",
    "\n",
    "    return values\n",
    "    \n",
    "def policy_iteration(policy, transitions, rewards, discount_factor, tol=1e-6):\n",
    "    # Initialize q(s, a)\n",
    "    q_values = np.zeros((num_states, num_actions))\n",
    "\n",
    "    while True:\n",
    "        stop = True  # Assume policy is stable initially\n",
    "        # Evaluate the policy to get state values\n",
    "        values = policy_evaluation(policy, transitions, rewards, discount_factor, tol)\n",
    "\n",
    "        # Update the policy for each state\n",
    "        for s in range(num_states):\n",
    "            # Find the best action and its Q-value for this state\n",
    "            best_action = policy[s]\n",
    "            best_q_value = q_values[s, best_action]\n",
    "\n",
    "            for action in range(num_actions):\n",
    "                new_q_value = sum(\n",
    "                    transitions[s, action, s_next] * (rewards[s, action, s_next] + discount_factor * values[s_next])\n",
    "                    for s_next in range(num_states)\n",
    "                )\n",
    "                \n",
    "                # Update if this action is better than the best one found so far\n",
    "                if new_q_value > best_q_value:\n",
    "                    best_q_value = new_q_value\n",
    "                    best_action = action\n",
    "                    stop = False  # Mark that we made a policy change\n",
    "            \n",
    "            # Update policy and q_values with the best action for state s\n",
    "            policy[s] = best_action\n",
    "            q_values[s, best_action] = best_q_value\n",
    "        \n",
    "        # Stop if the policy is stable\n",
    "        if stop:\n",
    "            break\n",
    "\n",
    "    return values, policy\n"
   ]
  },
  {
   "cell_type": "code",
   "execution_count": 46,
   "metadata": {},
   "outputs": [
    {
     "data": {
      "text/plain": [
       "(array([57.53303394, 55.41849691]), array([2, 0]))"
      ]
     },
     "execution_count": 46,
     "metadata": {},
     "output_type": "execute_result"
    }
   ],
   "source": [
    "policy = np.zeros(num_states, dtype=int)\n",
    "# deterministic policy\n",
    "policy[0] = 0 \n",
    "policy[1] = 2\n",
    "\n",
    "values, policy = policy_iteration(policy, transitions, rewards, discount_factor)\n",
    "values, policy"
   ]
  },
  {
   "cell_type": "markdown",
   "metadata": {},
   "source": [
    "## Value iteration"
   ]
  },
  {
   "cell_type": "code",
   "execution_count": 41,
   "metadata": {},
   "outputs": [],
   "source": [
    "def get_optimal_policy(values, transitions, rewards, discount_factor):\n",
    "    q_values = np.zeros((num_states, num_actions))\n",
    "    for s in range(num_states):\n",
    "        for action in range(num_actions):\n",
    "            q_values[s, action] = sum(transitions[s, action, s_next] * (rewards[s, action, s_next] + discount_factor * values[s_next]) for s_next in range(num_states))\n",
    "            \n",
    "    best_actions = np.argmax(q_values, axis=1)\n",
    "    return best_actions\n",
    "    \n",
    "\n",
    "\n",
    "# value iteration\n",
    "def value_iteration(transitions, rewards, discount_factor, tolerance=1e-6):\n",
    "    values = np.zeros(num_states)\n",
    "\n",
    "    while(True):\n",
    "        delta = 0\n",
    "        for s in range(num_states):\n",
    "            v = values[s]\n",
    "\n",
    "            # update value\n",
    "            values[s] = max([sum(transitions[s, action, s_next] * (rewards[s, action, s_next]+discount_factor*values[s_next]) for s_next in range(num_states)) for action in range(num_actions)])\n",
    "\n",
    "            delta = max(delta, abs(v-values[s]))\n",
    "        \n",
    "        if delta < tolerance:\n",
    "            break\n",
    "    \n",
    "    best_actions = get_optimal_policy(values, transitions, rewards, discount_factor)\n",
    "\n",
    "    return values, best_actions"
   ]
  },
  {
   "cell_type": "code",
   "execution_count": 47,
   "metadata": {},
   "outputs": [
    {
     "data": {
      "text/plain": [
       "(array([57.53303394, 55.41849691]), array([2, 0]))"
      ]
     },
     "execution_count": 47,
     "metadata": {},
     "output_type": "execute_result"
    }
   ],
   "source": [
    "values, best_actions = value_iteration(transitions, rewards, 0.9)\n",
    "values, best_actions"
   ]
  }
 ],
 "metadata": {
  "kernelspec": {
   "display_name": "base",
   "language": "python",
   "name": "python3"
  },
  "language_info": {
   "codemirror_mode": {
    "name": "ipython",
    "version": 3
   },
   "file_extension": ".py",
   "mimetype": "text/x-python",
   "name": "python",
   "nbconvert_exporter": "python",
   "pygments_lexer": "ipython3",
   "version": "3.12.4"
  }
 },
 "nbformat": 4,
 "nbformat_minor": 2
}
